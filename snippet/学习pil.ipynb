{
 "cells": [
  {
   "cell_type": "heading",
   "metadata": {
    "collapsed": true
   },
   "level": 1,
   "source": [
    "从数组产生彩色图片"
   ]
  },
  {
   "cell_type": "code",
   "execution_count": 2,
   "metadata": {},
   "outputs": [],
   "source": [
    "from PIL import Image\n",
    "import numpy as np\n",
    "\n",
    "data = -np.ones((100, 3)).reshape(10, 10, 3).astype('byte')\n",
    "data[:5, :5, 2] = 0  # 只保留RG两色，即为黄色\n",
    "data[5:, 5:, 1] = 0\n",
    "data[:5, 5:, 0] = 0\n",
    "img = Image.fromarray(data, \"RGB\")\n",
    "img.show()"
   ]
  },
  {
   "cell_type": "markdown",
   "metadata": {},
   "source": [
    "1 (1-bit pixels, black and white, stored with one pixel per byte)  \n",
    "L (8-bit pixels, black and white)  \n",
    "P (8-bit pixels, mapped to any other mode using a color palette)  \n",
    "RGB (3x8-bit pixels, true color)  \n",
    "RGBA (4x8-bit pixels, true color with transparency mask)  \n",
    "CMYK (4x8-bit pixels, color separation)  \n",
    "YCbCr (3x8-bit pixels, color video format)  \n",
    "I (32-bit signed integer pixels)  \n",
    "F (32-bit floating point pixels)  "
   ]
  },
  {
   "cell_type": "heading",
   "metadata": {},
   "level": 1,
   "source": [
    "从数组产生灰度图片"
   ]
  },
  {
   "cell_type": "code",
   "execution_count": 4,
   "metadata": {
    "collapsed": true
   },
   "outputs": [
    {
     "name": "stdout",
     "output_type": "stream",
     "text": [
      "[255, 255, 255, 255, 255, 255, 255, 255, 255, 255, 255, 255, 255, 255, 255, 255, 255, 255, 255, 255, 255, 255, 255, 255, 255, 255, 255, 255, 255, 255, 255, 255, 255, 255, 255, 255, 255, 255, 255, 255, 255, 255, 255, 255, 255, 255, 255, 255, 255, 255, 255, 255, 255, 255, 255, 255, 255, 255, 255, 255, 255, 255, 255, 255, 255, 255, 255, 255, 255, 255, 255, 255, 255, 255, 255, 255, 255, 255, 255, 255, 255, 255, 255, 255, 255, 255, 255, 255, 255, 255, 255, 255, 255, 255, 255, 255, 255, 255, 255, 255]\n"
     ]
    }
   ],
   "source": [
    "from PIL import Image\n",
    "import numpy as np\n",
    "\"\"\"\n",
    "当使用fromarray产生图片时，图片的类型（1,L,P之类的）跟数组每个元素的大小必须匹配！\n",
    "\"\"\"\n",
    "img = Image.fromarray(np.array([255]*100).astype(np.byte).reshape(10,10), 'L')\n",
    "print(list(img.getdata()))\n",
    "img.show()"
   ]
  },
  {
   "cell_type": "heading",
   "metadata": {},
   "level": 1,
   "source": [
    "使用histogram"
   ]
  },
  {
   "cell_type": "code",
   "execution_count": null,
   "metadata": {},
   "outputs": [],
   "source": [
    "from PIL import  Image\n",
    "img=Image.open(\"haha.jpg\")\n",
    "res=img.histogram()\n",
    "print(len(res))"
   ]
  },
  {
   "cell_type": "heading",
   "metadata": {},
   "level": 1,
   "source": [
    "使用PIL进行屏幕截图"
   ]
  },
  {
   "cell_type": "code",
   "execution_count": null,
   "metadata": {},
   "outputs": [],
   "source": [
    "from PIL import ImageGrab\n",
    "\n",
    "im = ImageGrab.grab()\n",
    "\n",
    "im.save('haha.jpg')"
   ]
  },
  {
   "cell_type": "heading",
   "metadata": {},
   "level": 1,
   "source": [
    "使用图片的info"
   ]
  },
  {
   "cell_type": "code",
   "execution_count": null,
   "metadata": {},
   "outputs": [],
   "source": [
    "\n",
    "\"\"\"\n",
    "能否保留文件info信息取决于图片类型\n",
    "\"\"\"\n",
    "img = Image.fromarray((128 * np.ones((20, 20))).astype(np.byte), \"L\")\n",
    "img.info['user'] = \"weidiao\"\n",
    "print(img.info)\n",
    "img.save(\"haha.pdf\")\n",
    "img = Image.open(\"haha.pdf\")\n",
    "print(img.info)"
   ]
  },
  {
   "cell_type": "heading",
   "metadata": {},
   "level": 1,
   "source": [
    "使用调色板（仅支持L和P模式）"
   ]
  },
  {
   "cell_type": "code",
   "execution_count": null,
   "metadata": {},
   "outputs": [],
   "source": [
    "from PIL import Image\n",
    "import numpy as np\n",
    "\n",
    "\"\"\"\n",
    "如果mode=1，不管数组的实际长度，总是取其中的前width*height位，mode=1是黑白图\n",
    "mode=L是灰度图\n",
    "mode=P是调色板图，可以容纳256种颜色，它可以是彩图\n",
    "\"\"\"\n",
    "# 首先创建一个灰度图，其中每个像素都是122灰度\n",
    "img = Image.fromarray((122 * np.ones((20, 20))).astype(np.byte), \"P\")\n",
    "\n",
    "\n",
    "def method1():\n",
    "    # 创建一个pallete，注意pallete只能用于mode=L和mode=P的情况，用于将灰度图彩色化\n",
    "    pallete = np.zeros(256 * 3).astype(np.byte)  # 与pallete数组的形状无关，只取前768个byte\n",
    "    # 将灰度为122的元素置为红色\n",
    "    pallete[122 * 3] = 255\n",
    "    img.putpalette(pallete)\n",
    "\n",
    "\n",
    "def method2():\n",
    "    # 创建一个pallete，注意pallete只能用于mode=L和mode=P的情况，用于将灰度图彩色化\n",
    "    pallete = np.zeros(256 * 3).astype(np.byte)  # 与pallete数组的形状无关，只取前768个byte\n",
    "    # 将灰度为122的元素置为红色\n",
    "    pallete[122 * 3] = 255\n",
    "    img.putpalette(pallete)\n",
    "\n",
    "\n",
    "def method3():\n",
    "    pallete = [0] * 768\n",
    "    pallete[122 * 3] = 255\n",
    "    img.putpalette(pallete)\n",
    "\n",
    "\n",
    "method2()\n",
    "img.show()\n",
    "# 灰度122映射为RGB应为（122，122，122），RGB三色相同必然是灰色\n"
   ]
  }
 ],
 "metadata": {
  "kernelspec": {
   "display_name": "Python 2",
   "language": "python",
   "name": "python2"
  },
  "language_info": {
   "codemirror_mode": {
    "name": "ipython",
    "version": 2
   },
   "file_extension": ".py",
   "mimetype": "text/x-python",
   "name": "python",
   "nbconvert_exporter": "python",
   "pygments_lexer": "ipython2",
   "version": "2.7.6"
  }
 },
 "nbformat": 4,
 "nbformat_minor": 0
}
